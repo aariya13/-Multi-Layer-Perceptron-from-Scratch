{
 "cells": [
  {
   "cell_type": "code",
   "execution_count": 33,
   "id": "83503e7d-c9eb-40ba-a9f3-a89692410ef5",
   "metadata": {},
   "outputs": [
    {
     "name": "stdout",
     "output_type": "stream",
     "text": [
      "Requirement already satisfied: numpy in c:\\users\\bit\\anaconda\\lib\\site-packages (1.26.4)\n",
      "Requirement already satisfied: pandas in c:\\users\\bit\\anaconda\\lib\\site-packages (2.2.2)\n",
      "Requirement already satisfied: numpy>=1.26.0 in c:\\users\\bit\\anaconda\\lib\\site-packages (from pandas) (1.26.4)\n",
      "Requirement already satisfied: python-dateutil>=2.8.2 in c:\\users\\bit\\anaconda\\lib\\site-packages (from pandas) (2.9.0.post0)\n",
      "Requirement already satisfied: pytz>=2020.1 in c:\\users\\bit\\anaconda\\lib\\site-packages (from pandas) (2024.1)\n",
      "Requirement already satisfied: tzdata>=2022.7 in c:\\users\\bit\\anaconda\\lib\\site-packages (from pandas) (2023.3)\n",
      "Requirement already satisfied: six>=1.5 in c:\\users\\bit\\anaconda\\lib\\site-packages (from python-dateutil>=2.8.2->pandas) (1.16.0)\n"
     ]
    }
   ],
   "source": [
    "!pip install numpy\n",
    "!pip install pandas"
   ]
  },
  {
   "cell_type": "markdown",
   "id": "a94fa335-d2cf-474c-952e-7232df67261a",
   "metadata": {},
   "source": [
    "installing the required libraries"
   ]
  },
  {
   "cell_type": "code",
   "execution_count": 34,
   "id": "dfaa89d1-1bf4-4f04-ad76-a51d6e521322",
   "metadata": {},
   "outputs": [],
   "source": [
    "\n",
    "import numpy as np\n",
    "import matplotlib.pyplot as plt\n",
    "from tqdm import tqdm # To visualize progress bars during training\n",
    "\n"
   ]
  },
  {
   "cell_type": "code",
   "execution_count": 35,
   "id": "95da287b-6e83-4859-8da6-1c44246cf797",
   "metadata": {},
   "outputs": [],
   "source": [
    "\n",
    "X = np.random.rand(1000, 1) * 2 * np.pi  # Input data (100 samples, values between 0 and 2*pi)\n",
    "Y = np.sin(X)\n",
    "\n"
   ]
  },
  {
   "cell_type": "markdown",
   "id": "464801e7-4220-4606-a2ef-54aa6ae1d015",
   "metadata": {},
   "source": [
    "Using dataset as a sine function where x is the value lies between 0 to 2pi and y has the corresponding sine value each x value"
   ]
  },
  {
   "cell_type": "code",
   "execution_count": 36,
   "id": "a0f67462-a5e4-4403-a8b8-17b0a3e31af6",
   "metadata": {},
   "outputs": [],
   "source": [
    "X_train = X[:800].T\n",
    "Y_train = Y[:800].T\n",
    "X_dev = X[800:].T\n",
    "Y_dev = Y[800:].T"
   ]
  },
  {
   "cell_type": "markdown",
   "id": "497311cf-e7db-4122-8db0-5197579767a5",
   "metadata": {},
   "source": [
    "Spilting the data set into training data and develpment sets"
   ]
  },
  {
   "cell_type": "code",
   "execution_count": 37,
   "id": "6949eb0b-3dbf-4df7-b635-6ee8851b0299",
   "metadata": {},
   "outputs": [],
   "source": [
    "# Initialize parameters\n",
    "def init_params():\n",
    "    W1 = np.random.randn(10, 1) * 0.01  \n",
    "    b1 = np.zeros((10, 1))  \n",
    "    W2 = np.random.randn(1, 10) * 0.01  \n",
    "    b2 = np.zeros((1, 1))\n",
    "    return W1, b1, W2, b2\n",
    "\n",
    "# ReLU Activation\n",
    "def ReLU(Z):\n",
    "    return np.maximum(Z, 0)\n",
    "\n",
    "# Softmax Activation(sigmoid function)\n",
    "def softmax(x):\n",
    "    A = 1 / (1 + np.exp(-x))\n",
    "    return A\n",
    "    \n",
    "# Forward propagation\n",
    "def forward_prop(W1, b1, W2, b2, X):\n",
    "    Z1 = W1.dot(X) + b1\n",
    "    A1 = ReLU(Z1)\n",
    "    Z2 = W2.dot(A1) + b2\n",
    "    A2 = softmax(Z2) \n",
    "    return Z1, A1, Z2, A2\n",
    "\n",
    "# Derivative of ReLU\n",
    "def ReLU_deriv(Z):\n",
    "    return Z > 0\n",
    "\n",
    "\n",
    "\n",
    "# Backward propagation\n",
    "def backward_prop(Z1, A1, Z2, A2, W1, W2, X, Y):\n",
    "    m = X.shape[1]  \n",
    "    dZ2 = A2 - Y  \n",
    "    dW2 = (1 / m) * dZ2.dot(A1.T)\n",
    "    db2 = (1 / m) * np.sum(dZ2)\n",
    "    dZ1 = W2.T.dot(dZ2) * ReLU_deriv(Z1)\n",
    "    dW1 = (1 / m) * dZ1.dot(X.T)\n",
    "    db1 = (1 / m) * np.sum(dZ1)\n",
    "    return dW1, db1, dW2, db2\n",
    "def update_params(W1, b1, W2, b2, dW1, db1, dW2, db2, alpha):\n",
    "    W1 -= alpha * dW1\n",
    "    b1 -= alpha * db1    \n",
    "    W2 -= alpha * dW2  \n",
    "    b2 -= alpha * db2    \n",
    "    return W1, b1, W2, b2\n"
   ]
  },
  {
   "cell_type": "markdown",
   "id": "91f2feb3-d3b4-43fc-9499-32125bfaa067",
   "metadata": {},
   "source": [
    "Here we are implementing multi layer preception.\n",
    "1. In forward propagation- we are using 2 layers, A1 and A2, and doing calculation(using softmax so that the value lies between 0-1).\n",
    "2. In backward prpagation- Here we are computing the gradient of weight and bias by computing error between the actual value and computed value.\n",
    "3. After forward and backward prop., we update the Weigth and bias."
   ]
  },
  {
   "cell_type": "code",
   "execution_count": 38,
   "id": "d01e94f6-1a94-4f63-a461-979cb40d8eb8",
   "metadata": {},
   "outputs": [],
   "source": [
    "# Get predictions\n",
    "def get_predictions(A2):\n",
    "    return A2  \n",
    "\n",
    "# Calculate accuracy\n",
    "def get_accuracy(predictions, Y):\n",
    "    return np.mean((predictions - Y) ** 2) \n",
    "\n",
    "# Gradient descent for training\n",
    "def gradient_descent(X, Y, alpha, iterations):\n",
    "    W1, b1, W2, b2 = init_params()\n",
    "    for i in range(iterations):\n",
    "        Z1, A1, Z2, A2 = forward_prop(W1, b1, W2, b2, X)\n",
    "        dW1, db1, dW2, db2 = backward_prop(Z1, A1, Z2, A2, W1, W2, X, Y)\n",
    "        W1, b1, W2, b2 = update_params(W1, b1, W2, b2, dW1, db1, dW2, db2, alpha)\n",
    "        if i % 10 == 0:\n",
    "            print(\"Iteration: \", i)\n",
    "            predictions = get_predictions(A2)\n",
    "            print(get_accuracy(predictions, Y))\n",
    "    return W1, b1, W2, b2 "
   ]
  },
  {
   "cell_type": "markdown",
   "id": "72a384a8-2952-4af9-ae29-93b0ea7ee1c3",
   "metadata": {},
   "source": [
    "Now here we compare train our model and see the prediction accuracy we get at each 10 iterations."
   ]
  },
  {
   "cell_type": "code",
   "execution_count": 45,
   "id": "78d0a319-1b10-4364-a412-11089edb5a11",
   "metadata": {},
   "outputs": [
    {
     "name": "stdout",
     "output_type": "stream",
     "text": [
      "Iteration:  0\n",
      "0.763196653683043\n",
      "Iteration:  10\n",
      "0.761750555881821\n",
      "Iteration:  20\n",
      "0.7603091050477255\n",
      "Iteration:  30\n",
      "0.7588720696724066\n",
      "Iteration:  40\n",
      "0.7574392053926813\n",
      "Iteration:  50\n",
      "0.7560102663009736\n",
      "Iteration:  60\n",
      "0.7545849992370204\n",
      "Iteration:  70\n",
      "0.7531631513759374\n",
      "Iteration:  80\n",
      "0.7517444614524013\n",
      "Iteration:  90\n",
      "0.7503286647542617\n",
      "Iteration:  100\n",
      "0.7489154762033065\n",
      "Iteration:  110\n",
      "0.7475045905883434\n",
      "Iteration:  120\n",
      "0.7460957166521629\n",
      "Iteration:  130\n",
      "0.7446885830669646\n",
      "Iteration:  140\n",
      "0.7432828309466037\n",
      "Iteration:  150\n",
      "0.7418781405061975\n",
      "Iteration:  160\n",
      "0.7404741924909283\n",
      "Iteration:  170\n",
      "0.7390706056743624\n",
      "Iteration:  180\n",
      "0.7376669896380982\n",
      "Iteration:  190\n",
      "0.7362629935552127\n",
      "Iteration:  200\n",
      "0.7348581387057485\n",
      "Iteration:  210\n",
      "0.7334519665548472\n",
      "Iteration:  220\n",
      "0.7320440500947588\n",
      "Iteration:  230\n",
      "0.7306339736403118\n",
      "Iteration:  240\n",
      "0.7292212355235093\n",
      "Iteration:  250\n",
      "0.7278053131493135\n",
      "Iteration:  260\n",
      "0.7263857193514544\n",
      "Iteration:  270\n",
      "0.7249618953230371\n",
      "Iteration:  280\n",
      "0.7235332679197819\n",
      "Iteration:  290\n",
      "0.7220992519283759\n"
     ]
    }
   ],
   "source": [
    "# Train the model\n",
    "W1, b1, W2, b2 = gradient_descent(X_train, Y_train, alpha=0.001, iterations=300)"
   ]
  },
  {
   "cell_type": "code",
   "execution_count": 46,
   "id": "ad5e014b-548e-4bde-85e9-cef3c8b08ba6",
   "metadata": {},
   "outputs": [
    {
     "data": {
      "text/plain": [
       "0.6587900474081837"
      ]
     },
     "execution_count": 46,
     "metadata": {},
     "output_type": "execute_result"
    }
   ],
   "source": [
    "def make_predictions(X, W1, b1, W2, b2):\n",
    "    _, _, _, A2 = forward_prop(W1, b1, W2, b2, X)\n",
    "    predictions = get_predictions(A2)\n",
    "    return predictions\n",
    "\n",
    "dev_predictions = make_predictions(X_dev, W1, b1, W2, b2)\n",
    "get_accuracy(dev_predictions, Y_dev)"
   ]
  },
  {
   "cell_type": "code",
   "execution_count": null,
   "id": "743ff5f7-ec3b-4bc1-9efa-1bf918714ca4",
   "metadata": {},
   "outputs": [],
   "source": []
  }
 ],
 "metadata": {
  "kernelspec": {
   "display_name": "Python 3 (ipykernel)",
   "language": "python",
   "name": "python3"
  },
  "language_info": {
   "codemirror_mode": {
    "name": "ipython",
    "version": 3
   },
   "file_extension": ".py",
   "mimetype": "text/x-python",
   "name": "python",
   "nbconvert_exporter": "python",
   "pygments_lexer": "ipython3",
   "version": "3.12.4"
  }
 },
 "nbformat": 4,
 "nbformat_minor": 5
}
